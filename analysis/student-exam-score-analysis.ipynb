{
 "cells": [
  {
   "cell_type": "markdown",
   "id": "d85b70d9",
   "metadata": {},
   "source": [
    "# Student Exam Course Analysis\n",
    "\n",
    "In this notebook we analyse the data, to find out what influnces students exam scores."
   ]
  },
  {
   "cell_type": "markdown",
   "id": "83e98f16",
   "metadata": {},
   "source": [
    "## Steps\n",
    "\n",
    "To analyse and predict the data we first need to follow steps:\n",
    "- load the data \n",
    "- analyse the data\n",
    "- preprocess the data\n",
    "- split the data\n",
    "- build the model\n",
    "- training the model\n",
    "- evaluate the model"
   ]
  },
  {
   "cell_type": "code",
   "execution_count": 278,
   "id": "1398b801",
   "metadata": {},
   "outputs": [],
   "source": [
    "# importing all the relevant libraries\n",
    "\n",
    "import pandas as pd\n",
    "import tensorflow as tf\n",
    "from tensorflow import keras\n",
    "from tensorflow.keras import layers, callbacks\n",
    "import matplotlib.pyplot as plt\n",
    "import seaborn as sns"
   ]
  },
  {
   "cell_type": "markdown",
   "id": "22120aac",
   "metadata": {},
   "source": [
    "## Loading the data"
   ]
  },
  {
   "cell_type": "code",
   "execution_count": 279,
   "id": "840587bb",
   "metadata": {},
   "outputs": [
    {
     "data": {
      "text/html": [
       "<div>\n",
       "<style scoped>\n",
       "    .dataframe tbody tr th:only-of-type {\n",
       "        vertical-align: middle;\n",
       "    }\n",
       "\n",
       "    .dataframe tbody tr th {\n",
       "        vertical-align: top;\n",
       "    }\n",
       "\n",
       "    .dataframe thead th {\n",
       "        text-align: right;\n",
       "    }\n",
       "</style>\n",
       "<table border=\"1\" class=\"dataframe\">\n",
       "  <thead>\n",
       "    <tr style=\"text-align: right;\">\n",
       "      <th></th>\n",
       "      <th>hours_studied</th>\n",
       "      <th>sleep_hours</th>\n",
       "      <th>attendance_percent</th>\n",
       "      <th>previous_scores</th>\n",
       "      <th>exam_score</th>\n",
       "    </tr>\n",
       "    <tr>\n",
       "      <th>student_id</th>\n",
       "      <th></th>\n",
       "      <th></th>\n",
       "      <th></th>\n",
       "      <th></th>\n",
       "      <th></th>\n",
       "    </tr>\n",
       "  </thead>\n",
       "  <tbody>\n",
       "    <tr>\n",
       "      <th>S001</th>\n",
       "      <td>8.0</td>\n",
       "      <td>8.8</td>\n",
       "      <td>72.1</td>\n",
       "      <td>45</td>\n",
       "      <td>30.2</td>\n",
       "    </tr>\n",
       "    <tr>\n",
       "      <th>S002</th>\n",
       "      <td>1.3</td>\n",
       "      <td>8.6</td>\n",
       "      <td>60.7</td>\n",
       "      <td>55</td>\n",
       "      <td>25.0</td>\n",
       "    </tr>\n",
       "    <tr>\n",
       "      <th>S003</th>\n",
       "      <td>4.0</td>\n",
       "      <td>8.2</td>\n",
       "      <td>73.7</td>\n",
       "      <td>86</td>\n",
       "      <td>35.8</td>\n",
       "    </tr>\n",
       "    <tr>\n",
       "      <th>S004</th>\n",
       "      <td>3.5</td>\n",
       "      <td>4.8</td>\n",
       "      <td>95.1</td>\n",
       "      <td>66</td>\n",
       "      <td>34.0</td>\n",
       "    </tr>\n",
       "    <tr>\n",
       "      <th>S005</th>\n",
       "      <td>9.1</td>\n",
       "      <td>6.4</td>\n",
       "      <td>89.8</td>\n",
       "      <td>71</td>\n",
       "      <td>40.3</td>\n",
       "    </tr>\n",
       "  </tbody>\n",
       "</table>\n",
       "</div>"
      ],
      "text/plain": [
       "            hours_studied  sleep_hours  attendance_percent  previous_scores  \\\n",
       "student_id                                                                    \n",
       "S001                  8.0          8.8                72.1               45   \n",
       "S002                  1.3          8.6                60.7               55   \n",
       "S003                  4.0          8.2                73.7               86   \n",
       "S004                  3.5          4.8                95.1               66   \n",
       "S005                  9.1          6.4                89.8               71   \n",
       "\n",
       "            exam_score  \n",
       "student_id              \n",
       "S001              30.2  \n",
       "S002              25.0  \n",
       "S003              35.8  \n",
       "S004              34.0  \n",
       "S005              40.3  "
      ]
     },
     "execution_count": 279,
     "metadata": {},
     "output_type": "execute_result"
    }
   ],
   "source": [
    "# we set student_id as our index\n",
    "student_data = pd.read_csv('../data/student_exam_scores.csv', index_col='student_id')\n",
    "student_data.head()"
   ]
  },
  {
   "cell_type": "code",
   "execution_count": 280,
   "id": "e34a63a7",
   "metadata": {},
   "outputs": [
    {
     "data": {
      "text/plain": [
       "hours_studied         0\n",
       "sleep_hours           0\n",
       "attendance_percent    0\n",
       "previous_scores       0\n",
       "exam_score            0\n",
       "dtype: int64"
      ]
     },
     "execution_count": 280,
     "metadata": {},
     "output_type": "execute_result"
    }
   ],
   "source": [
    "# checking for missing values for each column\n",
    "student_data.isnull().sum()"
   ]
  },
  {
   "cell_type": "markdown",
   "id": "4878217f",
   "metadata": {},
   "source": [
    "As our data has no missing values we do not have to do imputation, otherwise we would have to choose between 3 different ways to deal with the missing values:\n",
    "- dropping the columns with missing values\n",
    "- replacing the missing values with the mean\n",
    "- replacing the missing values with the mean and adding an additional row to notify that they have been imputed\n",
    "\n",
    "__note: in this case we skip the preprocessing of the data.__"
   ]
  },
  {
   "cell_type": "code",
   "execution_count": 281,
   "id": "077ff139",
   "metadata": {},
   "outputs": [
    {
     "data": {
      "text/plain": [
       "<Axes: title={'center': 'Student exam score in correlationt to hours studied'}, xlabel='hours_studied', ylabel='exam_score'>"
      ]
     },
     "execution_count": 281,
     "metadata": {},
     "output_type": "execute_result"
    },
    {
     "data": {
      "image/png": "[encoded data removed]",
      "text/plain": [
       "<Figure size 800x400 with 1 Axes>"
      ]
     },
     "metadata": {},
     "output_type": "display_data"
    }
   ],
   "source": [
    "plt.figure(figsize=(8,4))\n",
    "plt.title('Student exam score in correlationt to hours studied')\n",
    "sns.histplot(x=student_data.hours_studied, y = student_data.exam_score)"
   ]
  },
  {
   "cell_type": "markdown",
   "id": "88f72482",
   "metadata": {},
   "source": [
    "## Spliting the data"
   ]
  },
  {
   "cell_type": "code",
   "execution_count": 282,
   "id": "a1ff1286",
   "metadata": {},
   "outputs": [],
   "source": [
    "df_train = student_data.sample(frac=0.7)\n",
    "df_valid = student_data.drop(df_train.index)\n",
    "\n",
    "_max = df_train.max()\n",
    "_min = df_train.min()\n",
    "\n",
    "df_train = (df_train - _min) / (_max - _min)\n",
    "df_valid = (df_valid - _min) / (_max - _min)"
   ]
  },
  {
   "cell_type": "code",
   "execution_count": 283,
   "id": "7d193ee5",
   "metadata": {},
   "outputs": [
    {
     "name": "stdout",
     "output_type": "stream",
     "text": [
      "shape of X_train: (140, 4)\n",
      "shape of X_valid: (60, 4)\n",
      "shape of y_train: (140,)\n",
      "shape of y_valid: (60,)\n"
     ]
    }
   ],
   "source": [
    "# getting our X and y\n",
    "X_train = df_train.drop('exam_score', axis=1)\n",
    "y_train = df_train['exam_score']\n",
    "X_valid = df_valid.drop('exam_score', axis=1)\n",
    "y_valid = df_valid['exam_score']\n",
    "\n",
    "print(f'shape of X_train: {X_train.shape}')\n",
    "print(f'shape of X_valid: {X_valid.shape}')\n",
    "print(f'shape of y_train: {y_train.shape}')\n",
    "print(f'shape of y_valid: {y_valid.shape}')"
   ]
  },
  {
   "cell_type": "markdown",
   "id": "8ea532c5",
   "metadata": {},
   "source": [
    "## EarlyStopping\n",
    "we add _early_stopping_ callback to stop the model from training incase there is no improvement."
   ]
  },
  {
   "cell_type": "code",
   "execution_count": 284,
   "id": "06f14ced",
   "metadata": {},
   "outputs": [],
   "source": [
    "early_stopping = callbacks.EarlyStopping(\n",
    "    patience = 50, # How many epochs to wait before stopping \n",
    "    min_delta = 0.001, # min change to count as improvement\n",
    "    restore_best_weights = True\n",
    ")"
   ]
  },
  {
   "cell_type": "code",
   "execution_count": 285,
   "id": "7e83cfc4",
   "metadata": {},
   "outputs": [
    {
     "name": "stderr",
     "output_type": "stream",
     "text": [
      "/home/rownak/Documents/projects/deep-learning/.venv/lib/python3.13/site-packages/keras/src/layers/core/dense.py:92: UserWarning: Do not pass an `input_shape`/`input_dim` argument to a layer. When using Sequential models, prefer using an `Input(shape)` object as the first layer in the model instead.\n",
      "  super().__init__(activity_regularizer=activity_regularizer, **kwargs)\n"
     ]
    }
   ],
   "source": [
    "model = keras.Sequential([\n",
    "    layers.Dense(512, activation='relu', input_shape=[4]),\n",
    "    layers.Dense(512, activation='relu', input_shape=[4]),\n",
    "    layers.Dense(1, activation='relu')\n",
    "])"
   ]
  },
  {
   "cell_type": "code",
   "execution_count": 286,
   "id": "ebe4b5df",
   "metadata": {},
   "outputs": [],
   "source": [
    "model.compile(\n",
    "    optimizer='adam',\n",
    "    loss = 'mae'\n",
    ")"
   ]
  },
  {
   "cell_type": "code",
   "execution_count": 287,
   "id": "1a27490d",
   "metadata": {},
   "outputs": [
    {
     "name": "stdout",
     "output_type": "stream",
     "text": [
      "Epoch 1/500\n",
      "\u001b[1m2/2\u001b[0m \u001b[32m━━━━━━━━━━━━━━━━━━━━\u001b[0m\u001b[37m\u001b[0m \u001b[1m1s\u001b[0m 102ms/step - loss: 0.4889 - val_loss: 0.2079\n",
      "Epoch 2/500\n",
      "\u001b[1m2/2\u001b[0m \u001b[32m━━━━━━━━━━━━━━━━━━━━\u001b[0m\u001b[37m\u001b[0m \u001b[1m0s\u001b[0m 41ms/step - loss: 0.1517 - val_loss: 0.1681\n",
      "Epoch 3/500\n",
      "\u001b[1m2/2\u001b[0m \u001b[32m━━━━━━━━━━━━━━━━━━━━\u001b[0m\u001b[37m\u001b[0m \u001b[1m0s\u001b[0m 36ms/step - loss: 0.2138 - val_loss: 0.1052\n",
      "Epoch 4/500\n",
      "\u001b[1m2/2\u001b[0m \u001b[32m━━━━━━━━━━━━━━━━━━━━\u001b[0m\u001b[37m\u001b[0m \u001b[1m0s\u001b[0m 40ms/step - loss: 0.1322 - val_loss: 0.1271\n",
      "Epoch 5/500\n",
      "\u001b[1m2/2\u001b[0m \u001b[32m━━━━━━━━━━━━━━━━━━━━\u001b[0m\u001b[37m\u001b[0m \u001b[1m0s\u001b[0m 35ms/step - loss: 0.1121 - val_loss: 0.1530\n",
      "Epoch 6/500\n",
      "\u001b[1m2/2\u001b[0m \u001b[32m━━━━━━━━━━━━━━━━━━━━\u001b[0m\u001b[37m\u001b[0m \u001b[1m0s\u001b[0m 42ms/step - loss: 0.1265 - val_loss: 0.1007\n",
      "Epoch 7/500\n",
      "\u001b[1m2/2\u001b[0m \u001b[32m━━━━━━━━━━━━━━━━━━━━\u001b[0m\u001b[37m\u001b[0m \u001b[1m0s\u001b[0m 36ms/step - loss: 0.0918 - val_loss: 0.0715\n",
      "Epoch 8/500\n",
      "\u001b[1m2/2\u001b[0m \u001b[32m━━━━━━━━━━━━━━━━━━━━\u001b[0m\u001b[37m\u001b[0m \u001b[1m0s\u001b[0m 42ms/step - loss: 0.0894 - val_loss: 0.0866\n",
      "Epoch 9/500\n",
      "\u001b[1m2/2\u001b[0m \u001b[32m━━━━━━━━━━━━━━━━━━━━\u001b[0m\u001b[37m\u001b[0m \u001b[1m0s\u001b[0m 36ms/step - loss: 0.1076 - val_loss: 0.0681\n",
      "Epoch 10/500\n",
      "\u001b[1m2/2\u001b[0m \u001b[32m━━━━━━━━━━━━━━━━━━━━\u001b[0m\u001b[37m\u001b[0m \u001b[1m0s\u001b[0m 41ms/step - loss: 0.0836 - val_loss: 0.0845\n",
      "Epoch 11/500\n",
      "\u001b[1m2/2\u001b[0m \u001b[32m━━━━━━━━━━━━━━━━━━━━\u001b[0m\u001b[37m\u001b[0m \u001b[1m0s\u001b[0m 35ms/step - loss: 0.0835 - val_loss: 0.1120\n",
      "Epoch 12/500\n",
      "\u001b[1m2/2\u001b[0m \u001b[32m━━━━━━━━━━━━━━━━━━━━\u001b[0m\u001b[37m\u001b[0m \u001b[1m0s\u001b[0m 36ms/step - loss: 0.1026 - val_loss: 0.0885\n",
      "Epoch 13/500\n",
      "\u001b[1m2/2\u001b[0m \u001b[32m━━━━━━━━━━━━━━━━━━━━\u001b[0m\u001b[37m\u001b[0m \u001b[1m0s\u001b[0m 38ms/step - loss: 0.0835 - val_loss: 0.0647\n",
      "Epoch 14/500\n",
      "\u001b[1m2/2\u001b[0m \u001b[32m━━━━━━━━━━━━━━━━━━━━\u001b[0m\u001b[37m\u001b[0m \u001b[1m0s\u001b[0m 34ms/step - loss: 0.0789 - val_loss: 0.0770\n",
      "Epoch 15/500\n",
      "\u001b[1m2/2\u001b[0m \u001b[32m━━━━━━━━━━━━━━━━━━━━\u001b[0m\u001b[37m\u001b[0m \u001b[1m0s\u001b[0m 38ms/step - loss: 0.0947 - val_loss: 0.0729\n",
      "Epoch 16/500\n",
      "\u001b[1m2/2\u001b[0m \u001b[32m━━━━━━━━━━━━━━━━━━━━\u001b[0m\u001b[37m\u001b[0m \u001b[1m0s\u001b[0m 35ms/step - loss: 0.0890 - val_loss: 0.0659\n",
      "Epoch 17/500\n",
      "\u001b[1m2/2\u001b[0m \u001b[32m━━━━━━━━━━━━━━━━━━━━\u001b[0m\u001b[37m\u001b[0m \u001b[1m0s\u001b[0m 36ms/step - loss: 0.0756 - val_loss: 0.0886\n",
      "Epoch 18/500\n",
      "\u001b[1m2/2\u001b[0m \u001b[32m━━━━━━━━━━━━━━━━━━━━\u001b[0m\u001b[37m\u001b[0m \u001b[1m0s\u001b[0m 36ms/step - loss: 0.0815 - val_loss: 0.1107\n",
      "Epoch 19/500\n",
      "\u001b[1m2/2\u001b[0m \u001b[32m━━━━━━━━━━━━━━━━━━━━\u001b[0m\u001b[37m\u001b[0m \u001b[1m0s\u001b[0m 43ms/step - loss: 0.0933 - val_loss: 0.0859\n",
      "Epoch 20/500\n",
      "\u001b[1m2/2\u001b[0m \u001b[32m━━━━━━━━━━━━━━━━━━━━\u001b[0m\u001b[37m\u001b[0m \u001b[1m0s\u001b[0m 38ms/step - loss: 0.0755 - val_loss: 0.0738\n",
      "Epoch 21/500\n",
      "\u001b[1m2/2\u001b[0m \u001b[32m━━━━━━━━━━━━━━━━━━━━\u001b[0m\u001b[37m\u001b[0m \u001b[1m0s\u001b[0m 40ms/step - loss: 0.0763 - val_loss: 0.0819\n",
      "Epoch 22/500\n",
      "\u001b[1m2/2\u001b[0m \u001b[32m━━━━━━━━━━━━━━━━━━━━\u001b[0m\u001b[37m\u001b[0m \u001b[1m0s\u001b[0m 35ms/step - loss: 0.0821 - val_loss: 0.0847\n",
      "Epoch 23/500\n",
      "\u001b[1m2/2\u001b[0m \u001b[32m━━━━━━━━━━━━━━━━━━━━\u001b[0m\u001b[37m\u001b[0m \u001b[1m0s\u001b[0m 42ms/step - loss: 0.0740 - val_loss: 0.0953\n",
      "Epoch 24/500\n",
      "\u001b[1m2/2\u001b[0m \u001b[32m━━━━━━━━━━━━━━━━━━━━\u001b[0m\u001b[37m\u001b[0m \u001b[1m0s\u001b[0m 35ms/step - loss: 0.0838 - val_loss: 0.1015\n",
      "Epoch 25/500\n",
      "\u001b[1m2/2\u001b[0m \u001b[32m━━━━━━━━━━━━━━━━━━━━\u001b[0m\u001b[37m\u001b[0m \u001b[1m0s\u001b[0m 40ms/step - loss: 0.0879 - val_loss: 0.0892\n",
      "Epoch 26/500\n",
      "\u001b[1m2/2\u001b[0m \u001b[32m━━━━━━━━━━━━━━━━━━━━\u001b[0m\u001b[37m\u001b[0m \u001b[1m0s\u001b[0m 35ms/step - loss: 0.0782 - val_loss: 0.0800\n",
      "Epoch 27/500\n",
      "\u001b[1m2/2\u001b[0m \u001b[32m━━━━━━━━━━━━━━━━━━━━\u001b[0m\u001b[37m\u001b[0m \u001b[1m0s\u001b[0m 40ms/step - loss: 0.0726 - val_loss: 0.0764\n",
      "Epoch 28/500\n",
      "\u001b[1m2/2\u001b[0m \u001b[32m━━━━━━━━━━━━━━━━━━━━\u001b[0m\u001b[37m\u001b[0m \u001b[1m0s\u001b[0m 35ms/step - loss: 0.0745 - val_loss: 0.0731\n",
      "Epoch 29/500\n",
      "\u001b[1m2/2\u001b[0m \u001b[32m━━━━━━━━━━━━━━━━━━━━\u001b[0m\u001b[37m\u001b[0m \u001b[1m0s\u001b[0m 41ms/step - loss: 0.0712 - val_loss: 0.0742\n",
      "Epoch 30/500\n",
      "\u001b[1m2/2\u001b[0m \u001b[32m━━━━━━━━━━━━━━━━━━━━\u001b[0m\u001b[37m\u001b[0m \u001b[1m0s\u001b[0m 37ms/step - loss: 0.0712 - val_loss: 0.0735\n",
      "Epoch 31/500\n",
      "\u001b[1m2/2\u001b[0m \u001b[32m━━━━━━━━━━━━━━━━━━━━\u001b[0m\u001b[37m\u001b[0m \u001b[1m0s\u001b[0m 40ms/step - loss: 0.0713 - val_loss: 0.0708\n",
      "Epoch 32/500\n",
      "\u001b[1m2/2\u001b[0m \u001b[32m━━━━━━━━━━━━━━━━━━━━\u001b[0m\u001b[37m\u001b[0m \u001b[1m0s\u001b[0m 35ms/step - loss: 0.0709 - val_loss: 0.0701\n",
      "Epoch 33/500\n",
      "\u001b[1m2/2\u001b[0m \u001b[32m━━━━━━━━━━━━━━━━━━━━\u001b[0m\u001b[37m\u001b[0m \u001b[1m0s\u001b[0m 35ms/step - loss: 0.0700 - val_loss: 0.0714\n",
      "Epoch 34/500\n",
      "\u001b[1m2/2\u001b[0m \u001b[32m━━━━━━━━━━━━━━━━━━━━\u001b[0m\u001b[37m\u001b[0m \u001b[1m0s\u001b[0m 35ms/step - loss: 0.0689 - val_loss: 0.0710\n",
      "Epoch 35/500\n",
      "\u001b[1m2/2\u001b[0m \u001b[32m━━━━━━━━━━━━━━━━━━━━\u001b[0m\u001b[37m\u001b[0m \u001b[1m0s\u001b[0m 35ms/step - loss: 0.0682 - val_loss: 0.0720\n",
      "Epoch 36/500\n",
      "\u001b[1m2/2\u001b[0m \u001b[32m━━━━━━━━━━━━━━━━━━━━\u001b[0m\u001b[37m\u001b[0m \u001b[1m0s\u001b[0m 36ms/step - loss: 0.0698 - val_loss: 0.0747\n",
      "Epoch 37/500\n",
      "\u001b[1m2/2\u001b[0m \u001b[32m━━━━━━━━━━━━━━━━━━━━\u001b[0m\u001b[37m\u001b[0m \u001b[1m0s\u001b[0m 34ms/step - loss: 0.0705 - val_loss: 0.0782\n",
      "Epoch 38/500\n",
      "\u001b[1m2/2\u001b[0m \u001b[32m━━━━━━━━━━━━━━━━━━━━\u001b[0m\u001b[37m\u001b[0m \u001b[1m0s\u001b[0m 40ms/step - loss: 0.0703 - val_loss: 0.0797\n",
      "Epoch 39/500\n",
      "\u001b[1m2/2\u001b[0m \u001b[32m━━━━━━━━━━━━━━━━━━━━\u001b[0m\u001b[37m\u001b[0m \u001b[1m0s\u001b[0m 37ms/step - loss: 0.0710 - val_loss: 0.0780\n",
      "Epoch 40/500\n",
      "\u001b[1m2/2\u001b[0m \u001b[32m━━━━━━━━━━━━━━━━━━━━\u001b[0m\u001b[37m\u001b[0m \u001b[1m0s\u001b[0m 41ms/step - loss: 0.0697 - val_loss: 0.0755\n",
      "Epoch 41/500\n",
      "\u001b[1m2/2\u001b[0m \u001b[32m━━━━━━━━━━━━━━━━━━━━\u001b[0m\u001b[37m\u001b[0m \u001b[1m0s\u001b[0m 34ms/step - loss: 0.0699 - val_loss: 0.0740\n",
      "Epoch 42/500\n",
      "\u001b[1m2/2\u001b[0m \u001b[32m━━━━━━━━━━━━━━━━━━━━\u001b[0m\u001b[37m\u001b[0m \u001b[1m0s\u001b[0m 40ms/step - loss: 0.0691 - val_loss: 0.0729\n",
      "Epoch 43/500\n",
      "\u001b[1m2/2\u001b[0m \u001b[32m━━━━━━━━━━━━━━━━━━━━\u001b[0m\u001b[37m\u001b[0m \u001b[1m0s\u001b[0m 34ms/step - loss: 0.0685 - val_loss: 0.0709\n",
      "Epoch 44/500\n",
      "\u001b[1m2/2\u001b[0m \u001b[32m━━━━━━━━━━━━━━━━━━━━\u001b[0m\u001b[37m\u001b[0m \u001b[1m0s\u001b[0m 41ms/step - loss: 0.0689 - val_loss: 0.0715\n",
      "Epoch 45/500\n",
      "\u001b[1m2/2\u001b[0m \u001b[32m━━━━━━━━━━━━━━━━━━━━\u001b[0m\u001b[37m\u001b[0m \u001b[1m0s\u001b[0m 36ms/step - loss: 0.0671 - val_loss: 0.0787\n",
      "Epoch 46/500\n",
      "\u001b[1m2/2\u001b[0m \u001b[32m━━━━━━━━━━━━━━━━━━━━\u001b[0m\u001b[37m\u001b[0m \u001b[1m0s\u001b[0m 40ms/step - loss: 0.0705 - val_loss: 0.0781\n",
      "Epoch 47/500\n",
      "\u001b[1m2/2\u001b[0m \u001b[32m━━━━━━━━━━━━━━━━━━━━\u001b[0m\u001b[37m\u001b[0m \u001b[1m0s\u001b[0m 35ms/step - loss: 0.0690 - val_loss: 0.0674\n",
      "Epoch 48/500\n",
      "\u001b[1m2/2\u001b[0m \u001b[32m━━━━━━━━━━━━━━━━━━━━\u001b[0m\u001b[37m\u001b[0m \u001b[1m0s\u001b[0m 39ms/step - loss: 0.0683 - val_loss: 0.0676\n",
      "Epoch 49/500\n",
      "\u001b[1m2/2\u001b[0m \u001b[32m━━━━━━━━━━━━━━━━━━━━\u001b[0m\u001b[37m\u001b[0m \u001b[1m0s\u001b[0m 35ms/step - loss: 0.0719 - val_loss: 0.0703\n",
      "Epoch 50/500\n",
      "\u001b[1m2/2\u001b[0m \u001b[32m━━━━━━━━━━━━━━━━━━━━\u001b[0m\u001b[37m\u001b[0m \u001b[1m0s\u001b[0m 35ms/step - loss: 0.0686 - val_loss: 0.0822\n",
      "Epoch 51/500\n",
      "\u001b[1m2/2\u001b[0m \u001b[32m━━━━━━━━━━━━━━━━━━━━\u001b[0m\u001b[37m\u001b[0m \u001b[1m0s\u001b[0m 35ms/step - loss: 0.0710 - val_loss: 0.0789\n",
      "Epoch 52/500\n",
      "\u001b[1m2/2\u001b[0m \u001b[32m━━━━━━━━━━━━━━━━━━━━\u001b[0m\u001b[37m\u001b[0m \u001b[1m0s\u001b[0m 34ms/step - loss: 0.0690 - val_loss: 0.0710\n",
      "Epoch 53/500\n",
      "\u001b[1m2/2\u001b[0m \u001b[32m━━━━━━━━━━━━━━━━━━━━\u001b[0m\u001b[37m\u001b[0m \u001b[1m0s\u001b[0m 36ms/step - loss: 0.0677 - val_loss: 0.0714\n",
      "Epoch 54/500\n",
      "\u001b[1m2/2\u001b[0m \u001b[32m━━━━━━━━━━━━━━━━━━━━\u001b[0m\u001b[37m\u001b[0m \u001b[1m0s\u001b[0m 37ms/step - loss: 0.0708 - val_loss: 0.0735\n",
      "Epoch 55/500\n",
      "\u001b[1m2/2\u001b[0m \u001b[32m━━━━━━━━━━━━━━━━━━━━\u001b[0m\u001b[37m\u001b[0m \u001b[1m0s\u001b[0m 42ms/step - loss: 0.0677 - val_loss: 0.0829\n",
      "Epoch 56/500\n",
      "\u001b[1m2/2\u001b[0m \u001b[32m━━━━━━━━━━━━━━━━━━━━\u001b[0m\u001b[37m\u001b[0m \u001b[1m0s\u001b[0m 35ms/step - loss: 0.0703 - val_loss: 0.0824\n",
      "Epoch 57/500\n",
      "\u001b[1m2/2\u001b[0m \u001b[32m━━━━━━━━━━━━━━━━━━━━\u001b[0m\u001b[37m\u001b[0m \u001b[1m0s\u001b[0m 40ms/step - loss: 0.0694 - val_loss: 0.0772\n",
      "Epoch 58/500\n",
      "\u001b[1m2/2\u001b[0m \u001b[32m━━━━━━━━━━━━━━━━━━━━\u001b[0m\u001b[37m\u001b[0m \u001b[1m0s\u001b[0m 35ms/step - loss: 0.0666 - val_loss: 0.0784\n",
      "Epoch 59/500\n",
      "\u001b[1m2/2\u001b[0m \u001b[32m━━━━━━━━━━━━━━━━━━━━\u001b[0m\u001b[37m\u001b[0m \u001b[1m0s\u001b[0m 40ms/step - loss: 0.0663 - val_loss: 0.0796\n",
      "Epoch 60/500\n",
      "\u001b[1m2/2\u001b[0m \u001b[32m━━━━━━━━━━━━━━━━━━━━\u001b[0m\u001b[37m\u001b[0m \u001b[1m0s\u001b[0m 36ms/step - loss: 0.0658 - val_loss: 0.0790\n",
      "Epoch 61/500\n",
      "\u001b[1m2/2\u001b[0m \u001b[32m━━━━━━━━━━━━━━━━━━━━\u001b[0m\u001b[37m\u001b[0m \u001b[1m0s\u001b[0m 41ms/step - loss: 0.0668 - val_loss: 0.0803\n",
      "Epoch 62/500\n",
      "\u001b[1m2/2\u001b[0m \u001b[32m━━━━━━━━━━━━━━━━━━━━\u001b[0m\u001b[37m\u001b[0m \u001b[1m0s\u001b[0m 35ms/step - loss: 0.0699 - val_loss: 0.0791\n",
      "Epoch 63/500\n",
      "\u001b[1m2/2\u001b[0m \u001b[32m━━━━━━━━━━━━━━━━━━━━\u001b[0m\u001b[37m\u001b[0m \u001b[1m0s\u001b[0m 40ms/step - loss: 0.0667 - val_loss: 0.0770\n"
     ]
    }
   ],
   "source": [
    "history = model.fit(\n",
    "    X_train, y_train,\n",
    "    validation_data=[X_valid, y_valid],\n",
    "    batch_size=128,\n",
    "    epochs=500,\n",
    "    callbacks=[early_stopping],\n",
    "    verbose=True\n",
    ")"
   ]
  },
  {
   "cell_type": "code",
   "execution_count": 288,
   "id": "92f4099c",
   "metadata": {},
   "outputs": [
    {
     "data": {
      "text/plain": [
       "<Axes: >"
      ]
     },
     "execution_count": 288,
     "metadata": {},
     "output_type": "execute_result"
    },
    {
     "data": {
      "image/png": "[encoded data removed]",
      "text/plain": [
       "<Figure size 640x480 with 1 Axes>"
      ]
     },
     "metadata": {},
     "output_type": "display_data"
    }
   ],
   "source": [
    "history_df = pd.DataFrame(history.history)\n",
    "\n",
    "history_df.plot()"
   ]
  },
  {
   "cell_type": "code",
   "execution_count": 289,
   "id": "0d81b32d",
   "metadata": {},
   "outputs": [
    {
     "data": {
      "text/html": [
       "<div>\n",
       "<style scoped>\n",
       "    .dataframe tbody tr th:only-of-type {\n",
       "        vertical-align: middle;\n",
       "    }\n",
       "\n",
       "    .dataframe tbody tr th {\n",
       "        vertical-align: top;\n",
       "    }\n",
       "\n",
       "    .dataframe thead th {\n",
       "        text-align: right;\n",
       "    }\n",
       "</style>\n",
       "<table border=\"1\" class=\"dataframe\">\n",
       "  <thead>\n",
       "    <tr style=\"text-align: right;\">\n",
       "      <th></th>\n",
       "      <th>hours_studied</th>\n",
       "      <th>sleep_hours</th>\n",
       "      <th>attendance_percent</th>\n",
       "      <th>previous_scores</th>\n",
       "    </tr>\n",
       "  </thead>\n",
       "  <tbody>\n",
       "    <tr>\n",
       "      <th>0</th>\n",
       "      <td>1</td>\n",
       "      <td>1</td>\n",
       "      <td>1.0</td>\n",
       "      <td>1</td>\n",
       "    </tr>\n",
       "    <tr>\n",
       "      <th>1</th>\n",
       "      <td>12</td>\n",
       "      <td>12</td>\n",
       "      <td>100.0</td>\n",
       "      <td>100</td>\n",
       "    </tr>\n",
       "  </tbody>\n",
       "</table>\n",
       "</div>"
      ],
      "text/plain": [
       "   hours_studied  sleep_hours  attendance_percent  previous_scores\n",
       "0              1            1                 1.0                1\n",
       "1             12           12               100.0              100"
      ]
     },
     "execution_count": 289,
     "metadata": {},
     "output_type": "execute_result"
    }
   ],
   "source": [
    "example = pd.DataFrame({'hours_studied': [1,12],\t'sleep_hours': [1,12]\t,'attendance_percent':[1.0, 100.0],\t'previous_scores': [1,100]})\n",
    "example"
   ]
  },
  {
   "cell_type": "code",
   "execution_count": 290,
   "id": "9d5f68ea",
   "metadata": {},
   "outputs": [
    {
     "name": "stdout",
     "output_type": "stream",
     "text": [
      "\u001b[1m1/1\u001b[0m \u001b[32m━━━━━━━━━━━━━━━━━━━━\u001b[0m\u001b[37m\u001b[0m \u001b[1m0s\u001b[0m 41ms/step\n",
      "student 1: 1.09\n",
      "student 2: 53.68\n"
     ]
    }
   ],
   "source": [
    "predictions = model.predict(example)\n",
    "i = 1\n",
    "for student in predictions:\n",
    "    print(f\"student {i}: {student[0]:.2f}\")\n",
    "    i+=1"
   ]
  },
  {
   "cell_type": "markdown",
   "id": "7f556e95",
   "metadata": {},
   "source": [
    "We have succesfully built our predictor model that can predict the results of the students based on the hours they studied! This method can be used with other data to predict outcomes or results of experiments or in medical field, detection of malignant cancers. "
   ]
  }
 ],
 "metadata": {
  "kernelspec": {
   "display_name": ".venv",
   "language": "python",
   "name": "python3"
  },
  "language_info": {
   "codemirror_mode": {
    "name": "ipython",
    "version": 3
   },
   "file_extension": ".py",
   "mimetype": "text/x-python",
   "name": "python",
   "nbconvert_exporter": "python",
   "pygments_lexer": "ipython3",
   "version": "3.13.7"
  }
 },
 "nbformat": 4,
 "nbformat_minor": 5
}
